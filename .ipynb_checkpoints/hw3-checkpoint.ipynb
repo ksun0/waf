{
 "cells": [
  {
   "cell_type": "markdown",
   "metadata": {},
   "source": [
    "# CIS 192\n",
    "## Homework 3: Acquiring and Processing Data\n",
    "### Name: [Insert name here]\n",
    "\n",
    "**Directions:** For this homework you will learn how to use Jupyter notebooks and some common Python packages for data mining, modeling, and visualization leading up to next week's introduction to data science. This notebook is split into two parts:\n",
    "1. ([An introduction to Jupyter](#An_introduction_to_Jupyter_notebooks)). For this section, just **follow along the instruction texts and run the code cells** (see below for instructions for running cells). Feel free to change the code cells.\n",
    "2. ([The homework portion](#HW_Portion)). For this section, complete the map and text acquiring and processing data assignment however you want by adding your own code cells. In the end, you will **export a data file, and you will submit that along with this notebook**.\n",
    "\n",
    "If you feel like you are already an expert with Jupyter notebooks, feel free to skip right to ([The homework portion](#HW_Portion)). \n",
    "\n",
    "**Note**: If you're running into any unexpected errors while working through this notebook, come to office hours or ask a question on [Piazza](https://piazza.com/class/k05elkoynkb6lx)."
   ]
  },
  {
   "cell_type": "markdown",
   "metadata": {},
   "source": [
    "<hr>"
   ]
  },
  {
   "cell_type": "markdown",
   "metadata": {},
   "source": [
    "# An_introduction_to_Jupyter_notebooks\n",
    "\n",
    "A Jupyter notebook (formally iPython) is an interactive environment for Python, and it's probably the best way of using Python for data manipulation.  You may ask: \"I can just run python interactively from the terminal, why do I need jupyter?\"  Well, that's a fair question, and the answer will hopefully become clear as we work through this notebook.\n",
    "\n",
    "Jupyter notebooks are broken down into **cells**.  We're in the topmost cell of this notebook at the moment.  Cells come in three flavors:\n",
    "\n",
    "* **Markdown cells** allows you to edit the text in [Markdown](https://guides.github.com/features/mastering-markdown/).  These cells are used for exposition, discussion, and general formatting.  Think of them as extended comments that can be formatted beautifully, and can contain [links](http://www.jupyter.org), bulleted lists, etc.  Anything that Markdown can!  They can even contain $\\LaTeX$ code ([huh?](#footer_latex)): '$$\\left(\\int_1^{\\sqrt[3]{3}}z^2 dz \\right)\\cos\\left(\\frac{3\\pi}{9}\\right) = \\ln\\left(\\sqrt[3]{e}\\right)$$\n",
    "* **Code cells** contain code (for us, Python code).  These cells can contain code as short as one line, or as long as you'd like!  (Actually, I have no idea what the maximum length is.  I've had cells well over 100 lines long though).  They have some basic text editor support, so they'll help you with indentation, tab completion, etc., but they won't be able to do some of the magic that true editors like Atom or Sublime can handle.  They're also interactive in the same way that the Python interpreter in interactive mode is.  Type `15*4 %3` and it returns the answer, no need to print out everything.\n",
    "\n",
    "There's one more, but it's not used as often:\n",
    "\n",
    "* **Raw cells** are used when you want to hack the notebook to make it fancier.  We won't be using them tons, but it's good to know they exist.\n",
    "\n",
    "## Downloading Jupyter\n",
    "To get started, first download Jupyter following the instructions [here](https://jupyter.readthedocs.io/en/latest/install.html). Then, download this notebook, run `jupyter notebook` from your terminal where you downloaded the file, open the notebook, and continue to follow on with the rest of the homework."
   ]
  },
  {
   "cell_type": "markdown",
   "metadata": {},
   "source": [
    "## Demonstration Examples\n",
    "How about a little demonstration?  Try running the cell below by highlighting it and pressing either `cmd + enter` or `ctrl + enter`.  If that *doesn't* work, then you're not [running the notebook](https://jupyter.readthedocs.io/en/latest/running.html#running)."
   ]
  },
  {
   "cell_type": "code",
   "execution_count": 1,
   "metadata": {
    "ExecuteTime": {
     "end_time": "2019-09-17T19:08:38.990647Z",
     "start_time": "2019-09-17T19:08:38.982802Z"
    },
    "hide_input": false
   },
   "outputs": [
    {
     "name": "stdout",
     "output_type": "stream",
     "text": [
      "2 3 5 7 11 13 17 19 23 29 31 37 41 43 47 53 59 61 67 71 73 79 83 89 97 101 103 107 109 113 127 131 137 139 149 151 157 163 167 173 179 181 191 193 197 199 211 223 227 229 233 239 241 251 257 263 269 271 277 281 283 293 307 311 313 317 331 337 347 349 353 359 367 373 379 383 389 397\n"
     ]
    }
   ],
   "source": [
    "def is_prime(n):\n",
    "    \"\"\" Determine whether n is prime.\"\"\"\n",
    "    k = 2\n",
    "    while k*k <= n:\n",
    "        if n % k == 0:\n",
    "            return False\n",
    "        k += 1\n",
    "    return True\n",
    "\n",
    "\n",
    "print(*[x for x in range(2, 401) if is_prime(x)])"
   ]
  },
  {
   "cell_type": "markdown",
   "metadata": {},
   "source": [
    "[**Side note** for people confused by that last line](#footer_list_comprehensions)"
   ]
  },
  {
   "cell_type": "code",
   "execution_count": 2,
   "metadata": {
    "ExecuteTime": {
     "end_time": "2019-09-17T19:08:54.356039Z",
     "start_time": "2019-09-17T19:08:54.351953Z"
    }
   },
   "outputs": [
    {
     "name": "stdout",
     "output_type": "stream",
     "text": [
      "<function is_prime at 0x10edf84d0>\n",
      "\n",
      "<class 'function'>\n",
      "\n",
      "False\n"
     ]
    }
   ],
   "source": [
    "# As proof that the function is in memory, let's query the function\n",
    "print(is_prime, type(is_prime), is_prime(57), sep=\"\\n\"*2)"
   ]
  },
  {
   "cell_type": "markdown",
   "metadata": {},
   "source": [
    "## Editing a notebook: Command mode and Edit mode\n",
    "\n",
    "While working with a notebook, you are always in one of two modes.\n",
    "\n",
    "1. In **Edit mode** you can edit the content of a cell.  It acts like a text file inside a text editor, and has some helpful syntax highlighting.  If you're editing a Markdown cell, it will look significantly different.  If you're editing a code cell, it will look mostly the same.  To *run* the cell, you have a few options:\n",
    " * press `command + enter` or `ctrl + enter` to run the cell and exit edit mode.  Running a markdown cell with render it, and running a code cell performs as you expect.\n",
    " * press `shift + enter` to run the cell and insert a new cell below.  This is the standard command then you're building the notebook.\n",
    "  * You can also press `esc` to go to command mode without running the cell.\n",
    "1. In **Command mode** you have access to your cells in a larger-scale way.  You can press `up` or `down` to move between cells, and press `enter` to enter edit mode on the currently selected cells.  You can also cut, copy, paste, and delete cells with appropriate keyboard commands.  Open the *Command Palette* (the keyboard in the top center of the toolbar) to see all the commands you can use in Command mode.\n",
    "\n",
    "## Linearity of code: the kernel\n",
    "\n",
    "A notebook has a **kernel** attached to it.  Think of it as the interactive python running behind the scenes, executing your commands when you send them.  There are two forms of *linearity*, or continuity-of-your-work, going on here, and it can be a bit confusing to new Jupyter users:\n",
    "\n",
    "* **Kernel Linearity**: After you execute a code cell, it gives you its output and places a number next to the top left corner of the cell.  This number is the *order of cell execution* in the kernel.  It's the order the kernel received from you.  This means you can run cells, tweak them and run them again, run something \"below\" the cell in the notebook, then come back and run the upper cell, *etc.*, and the kernel will keep track of this in terms of the order in which you ran them **chronologically**.  This is the order you want to keep in mind.  It's really useful!  You can start out with a junky-looking notebook, figure out your data analysis, realize you want to change stuff \"in the past\", and just go back and change them.  Once you get used to this, you'll love it.\n",
    "* **Cell Linearity**: There is an obvious order to the cells: the top ones \"go first\", and the lower ones \"go next\".  This isn't exactly necessary, though.  It definitely is the goal of the *final product* to go linearly, but programming, and especially data analysis, isn't like writing a journal entry.  Very often, you'll need to go back and change things, then rerun all the cells that come after the one you just edited.  You may type one line in a cell, hit `shift + enter` to see the output and move on to the next cell, then do that three more times.  You then realize that you'd prefer to have done all that at once, and you can merge those three cells together.  It's a workflow that I hope you'll learn to love.\n",
    "\n",
    "Play around with it now: we first use an uninitialized variable `my_hat` in a cell; hit `shift + enter` to see the error.  Below that, we create a cell in which we give the variable a value, then run that cell, followed by the original cell: "
   ]
  },
  {
   "cell_type": "code",
   "execution_count": 3,
   "metadata": {
    "ExecuteTime": {
     "end_time": "2019-09-17T19:08:59.104205Z",
     "start_time": "2019-09-17T19:08:58.996030Z"
    }
   },
   "outputs": [
    {
     "ename": "NameError",
     "evalue": "name 'my_hat' is not defined",
     "output_type": "error",
     "traceback": [
      "\u001b[0;31m---------------------------------------------------------------------------\u001b[0m",
      "\u001b[0;31mNameError\u001b[0m                                 Traceback (most recent call last)",
      "\u001b[0;32m<ipython-input-3-422f63eee3b5>\u001b[0m in \u001b[0;36m<module>\u001b[0;34m\u001b[0m\n\u001b[1;32m      1\u001b[0m \u001b[0;31m# Push shift+enter to see an error or esc to not run the cell:\u001b[0m\u001b[0;34m\u001b[0m\u001b[0;34m\u001b[0m\u001b[0;34m\u001b[0m\u001b[0m\n\u001b[1;32m      2\u001b[0m \u001b[0;34m\u001b[0m\u001b[0m\n\u001b[0;32m----> 3\u001b[0;31m \u001b[0mprint\u001b[0m\u001b[0;34m(\u001b[0m\u001b[0mmy_hat\u001b[0m\u001b[0;34m)\u001b[0m\u001b[0;34m\u001b[0m\u001b[0;34m\u001b[0m\u001b[0m\n\u001b[0m",
      "\u001b[0;31mNameError\u001b[0m: name 'my_hat' is not defined"
     ]
    }
   ],
   "source": [
    "# Push shift+enter to see an error or esc to not run the cell:\n",
    "\n",
    "print(my_hat)"
   ]
  },
  {
   "cell_type": "code",
   "execution_count": 4,
   "metadata": {
    "ExecuteTime": {
     "end_time": "2019-09-17T19:09:00.433700Z",
     "start_time": "2019-09-17T19:09:00.430860Z"
    }
   },
   "outputs": [],
   "source": [
    "my_hat = \"Oh, now it works!\"\n",
    "\n",
    "# run this cell, then run the above cell!"
   ]
  },
  {
   "cell_type": "markdown",
   "metadata": {},
   "source": [
    "you'll get the hang of it in time.  Another way this can bite you is by rerunning the same cell and expecting a certain result:"
   ]
  },
  {
   "cell_type": "code",
   "execution_count": 5,
   "metadata": {
    "ExecuteTime": {
     "end_time": "2019-09-17T19:09:03.375399Z",
     "start_time": "2019-09-17T19:09:03.372609Z"
    }
   },
   "outputs": [],
   "source": [
    "# run this cell once!\n",
    "title = \"The Cat in the\""
   ]
  },
  {
   "cell_type": "code",
   "execution_count": 10,
   "metadata": {
    "ExecuteTime": {
     "end_time": "2019-09-17T19:09:07.036421Z",
     "start_time": "2019-09-17T19:09:07.033110Z"
    },
    "hide_input": false
   },
   "outputs": [
    {
     "name": "stdout",
     "output_type": "stream",
     "text": [
      "The Cat in the Hat Hat Hat Hat Hat\n"
     ]
    }
   ],
   "source": [
    "# run this cell many times!\n",
    "\n",
    "title += \" Hat\"\n",
    "print(title)"
   ]
  },
  {
   "cell_type": "markdown",
   "metadata": {},
   "source": [
    "One other thing to note about jupyter notebooks is that, unlike the Python interpreter, you have full access to your shell (bash or cmd, most likely) by using the `!` operator:"
   ]
  },
  {
   "cell_type": "code",
   "execution_count": 11,
   "metadata": {
    "ExecuteTime": {
     "end_time": "2019-09-17T19:10:06.270655Z",
     "start_time": "2019-09-17T19:10:06.121138Z"
    }
   },
   "outputs": [],
   "source": [
    "!echo \"Hello from a text file!\" > hello.txt"
   ]
  },
  {
   "cell_type": "code",
   "execution_count": 13,
   "metadata": {
    "ExecuteTime": {
     "end_time": "2019-09-17T19:10:21.887842Z",
     "start_time": "2019-09-17T19:10:21.763991Z"
    }
   },
   "outputs": [
    {
     "name": "stdout",
     "output_type": "stream",
     "text": [
      "bnc-wordfreq.csv hw3.ipynb        raven.csv\r\n",
      "hello.txt        locations.json   raven.txt\r\n"
     ]
    }
   ],
   "source": [
    "# Let's see the file we just made:\n",
    "\n",
    "# I'm on a windows machine as I make this notebook, so I'll use:\n",
    "# !dir\n",
    "\n",
    "# But if you're on a *nix machine (such as a macbook) you should use:\n",
    "!ls"
   ]
  },
  {
   "cell_type": "code",
   "execution_count": 14,
   "metadata": {
    "ExecuteTime": {
     "end_time": "2019-09-17T19:10:32.473702Z",
     "start_time": "2019-09-17T19:10:32.466529Z"
    }
   },
   "outputs": [
    {
     "name": "stdout",
     "output_type": "stream",
     "text": [
      "Hello from a text file!\n",
      "\n"
     ]
    }
   ],
   "source": [
    "# If there's no `!`, then we're using Python.  Here's the\n",
    "# Python command to open the text file we just made:\n",
    "with open(\"hello.txt\") as f:\n",
    "    print(f.read())"
   ]
  },
  {
   "cell_type": "code",
   "execution_count": 16,
   "metadata": {
    "ExecuteTime": {
     "end_time": "2019-09-17T19:10:43.126825Z",
     "start_time": "2019-09-17T19:10:43.003175Z"
    }
   },
   "outputs": [],
   "source": [
    "# Again, the windows commands:\n",
    "# !del hello.txt\n",
    "\n",
    "# But if you're on a *nix machine you should use:\n",
    "!rm hello.txt"
   ]
  },
  {
   "cell_type": "markdown",
   "metadata": {},
   "source": [
    "(You can now go run the above `!dir` or `!ls` cell to double check that the file is gone!  Remember, *kernel linearity* is the important thing to keep in mind.)  I mostly use `!` in order to `!pip install <whatever_python_library_I_need>`.  (What's [pip](https://pythonprogramming.net/using-pip-install-for-python-modules/)?) "
   ]
  },
  {
   "cell_type": "code",
   "execution_count": 17,
   "metadata": {
    "ExecuteTime": {
     "end_time": "2019-09-17T19:10:47.200612Z",
     "start_time": "2019-09-17T19:10:45.300952Z"
    }
   },
   "outputs": [
    {
     "name": "stdout",
     "output_type": "stream",
     "text": [
      "\u001b[33mDEPRECATION: Python 2.7 will reach the end of its life on January 1st, 2020. Please upgrade your Python as Python 2.7 won't be maintained after that date. A future version of pip will drop support for Python 2.7.\u001b[0m\n",
      "Package                                Version    \n",
      "-------------------------------------- -----------\n",
      "alabaster                              0.7.10     \n",
      "alembic                                1.0.0      \n",
      "amqp                                   2.1.4      \n",
      "anyjson                                0.3.3      \n",
      "appnope                                0.1.0      \n",
      "argh                                   0.26.2     \n",
      "asgi-redis                             0.14.1     \n",
      "asgiref                                2.0.1      \n",
      "attrs                                  17.3.0     \n",
      "autobahn                               17.10.1    \n",
      "Automat                                0.6.0      \n",
      "autopep8                               1.2.4      \n",
      "Babel                                  2.5.1      \n",
      "backports-abc                          0.5        \n",
      "backports.shutil-get-terminal-size     1.0.0      \n",
      "BeautifulSoup                          3.2.1      \n",
      "beautifulsoup4                         4.3.2      \n",
      "billiard                               3.5.0.2    \n",
      "bleach                                 2.0.0      \n",
      "bs4                                    0.0.1      \n",
      "celery                                 4.0.2      \n",
      "certifi                                2018.10.15 \n",
      "channels                               0.17.2     \n",
      "click                                  6.7        \n",
      "cloudpickle                            0.5.3      \n",
      "coloredlogs                            7.3.1      \n",
      "CommonMark                             0.5.4      \n",
      "configparser                           3.5.0      \n",
      "constantly                             15.1.0     \n",
      "coverage                               4.2        \n",
      "coveralls                              1.1        \n",
      "cssselect                              0.9.1      \n",
      "cycler                                 0.10.0     \n",
      "daphne                                 0.15.0     \n",
      "dask                                   0.18.1     \n",
      "decorator                              4.3.0      \n",
      "diff-match-patch                       20121119   \n",
      "dj-database-url                        0.4.2      \n",
      "Django                                 1.10.2     \n",
      "django-allauth                         0.34.0     \n",
      "django-autofixture                     0.12.1     \n",
      "django-celery                          3.2.1      \n",
      "django-celery-beat                     1.0.1      \n",
      "django-cors-headers                    1.3.1      \n",
      "django-debug-toolbar                   1.8        \n",
      "django-extensions                      1.7.8      \n",
      "django-import-export                   0.5.1      \n",
      "django-registration                    2.2        \n",
      "django-rest-auth                       0.9.2      \n",
      "django-silk                            1.0.0      \n",
      "django-spaghetti-and-meatballs         0.2.2      \n",
      "djangorestframework                    3.5.2      \n",
      "djangorestframework-expiring-authtoken 0.1.4      \n",
      "docopt                                 0.6.2      \n",
      "docutils                               0.14       \n",
      "drfdocs                                0.0.11     \n",
      "entrypoints                            0.2.2      \n",
      "enum34                                 1.1.6      \n",
      "et-xmlfile                             1.0.1      \n",
      "executor                               18.0       \n",
      "Faker                                  0.7.7      \n",
      "fasteners                              0.14.1     \n",
      "feedfinder2                            0.0.1      \n",
      "feedparser                             5.1.3      \n",
      "first                                  2.0.1      \n",
      "flake8                                 3.0.4      \n",
      "Flask                                  1.0.2      \n",
      "Flask-Migrate                          2.2.1      \n",
      "Flask-SQLAlchemy                       2.3.2      \n",
      "fluidsynth                             0.2        \n",
      "functools32                            3.2.3.post2\n",
      "future                                 0.16.0     \n",
      "google-search                          1.0.2      \n",
      "goose-extractor                        1.0.25     \n",
      "gunicorn                               19.7.1     \n",
      "html5lib                               1.0.1      \n",
      "humanfriendly                          4.4.1      \n",
      "hyperlink                              17.3.1     \n",
      "image                                  1.5.5      \n",
      "imagesize                              0.7.1      \n",
      "importlib                              1.0.4      \n",
      "incremental                            17.5.0     \n",
      "ipaddress                              1.0.18     \n",
      "ipykernel                              4.5.2      \n",
      "ipython                                5.3.0      \n",
      "ipython-genutils                       0.2.0      \n",
      "ipywidgets                             6.0.0      \n",
      "itsdangerous                           0.24       \n",
      "jdcal                                  1.3        \n",
      "jieba                                  0.35       \n",
      "Jinja2                                 2.10       \n",
      "jsonschema                             2.6.0      \n",
      "jupyter                                1.0.0      \n",
      "jupyter-client                         5.0.0      \n",
      "jupyter-console                        5.1.0      \n",
      "jupyter-core                           4.3.0      \n",
      "kombu                                  4.0.2      \n",
      "linecache2                             1.0.0      \n",
      "livereload                             2.5.1      \n",
      "lxml                                   3.3.5      \n",
      "Mako                                   1.0.7      \n",
      "MarkupSafe                             1.0        \n",
      "matplotlib                             2.0.2      \n",
      "mccabe                                 0.5.3      \n",
      "mingus                                 0.5.1      \n",
      "mistune                                0.7.4      \n",
      "monotonic                              1.4        \n",
      "msgpack-python                         0.4.8      \n",
      "MySQL-python                           1.2.5      \n",
      "mysqlclient                            1.3.10     \n",
      "nbconvert                              5.1.1      \n",
      "nbformat                               4.3.0      \n",
      "networkx                               2.1        \n",
      "newspaper                              0.0.9.8    \n",
      "nltk                                   2.0.5      \n",
      "notebook                               4.4.1      \n",
      "numpy                                  1.12.1     \n",
      "oauthlib                               2.0.6      \n",
      "odfpy                                  1.3.6      \n",
      "olefile                                0.44       \n",
      "opencv-contrib-python                  3.4.1.15   \n",
      "openpyxl                               2.4.9      \n",
      "otpauth                                1.0.1      \n",
      "pandas                                 0.19.2     \n",
      "pandocfilters                          1.4.1      \n",
      "pathlib                                1.0.1      \n",
      "pathlib2                               2.2.1      \n",
      "pathtools                              0.1.2      \n",
      "pep8                                   1.7.1      \n",
      "pew                                    0.1.26     \n",
      "pexpect                                4.2.1      \n",
      "pickleshare                            0.7.4      \n",
      "pika                                   0.10.0     \n",
      "Pillow                                 5.3.0      \n",
      "pip                                    19.1.1     \n",
      "pip-autoremove                         0.9.0      \n",
      "pip-tools                              1.9.0      \n",
      "pipenv                                 2018.10.13 \n",
      "pipreqs                                0.4.7      \n",
      "pipx                                   0.1.1      \n",
      "port-for                               0.3.1      \n",
      "proc                                   0.10.1     \n",
      "prompt-toolkit                         1.0.14     \n",
      "property-manager                       2.2        \n",
      "psycopg2                               2.6.2      \n",
      "ptyprocess                             0.5.1      \n",
      "py                                     1.5.2      \n",
      "pycodestyle                            2.0.0      \n",
      "pyflakes                               1.2.3      \n",
      "pygame                                 1.9.4      \n",
      "Pygments                               2.2.0      \n",
      "pyotp                                  2.2.4      \n",
      "pyparsing                              2.2.0      \n",
      "pyshp                                  1.2.12     \n",
      "pytesseract                            0.1.6      \n",
      "pytest                                 3.0.3      \n",
      "pytest-cov                             2.4.0      \n",
      "pytest-django                          3.1.2      \n",
      "python-dateutil                        2.4.0      \n",
      "python-editor                          1.0.3      \n",
      "python-openid                          2.2.5      \n",
      "pythonz-bd                             1.11.4     \n",
      "pytz                                   2017.2     \n",
      "PyWavelets                             0.5.2      \n",
      "PyYAML                                 3.11       \n",
      "pyzmq                                  16.0.2     \n",
      "qtconsole                              4.2.1      \n",
      "readability                            0.3        \n",
      "redis                                  2.10.5     \n",
      "requests                               2.3.0      \n",
      "requests-oauthlib                      0.8.0      \n",
      "rstr                                   2.2.5      \n",
      "scandir                                1.5        \n",
      "scikit-image                           0.14.0     \n",
      "scikit-learn                           0.20.0     \n",
      "scipy                                  0.19.0     \n",
      "semver                                 2.7.8      \n",
      "setuptools                             41.0.1     \n",
      "shutilwhich                            1.1.0      \n",
      "simplegeneric                          0.8.1      \n",
      "singledispatch                         3.4.0.3    \n",
      "six                                    1.11.0     \n",
      "sklearn                                0.0        \n",
      "snowballstemmer                        1.2.1      \n",
      "Sphinx                                 1.4.8      \n",
      "sphinx-autobuild                       0.6.0      \n",
      "sphinx-rtd-theme                       0.1.9      \n",
      "SQLAlchemy                             1.2.12     \n",
      "sqlparse                               0.2.4      \n",
      "subprocess32                           3.2.7      \n",
      "tablib                                 0.12.1     \n",
      "terminado                              0.6        \n",
      "tesseract                              0.1.3      \n",
      "testpath                               0.3        \n",
      "tldextract                             1.5.1      \n",
      "toolz                                  0.9.0      \n",
      "tornado                                4.4.2      \n",
      "tqdm                                   4.11.2     \n",
      "traceback2                             1.4.0      \n",
      "traitlets                              4.3.2      \n",
      "Twisted                                17.9.0     \n",
      "txaio                                  2.8.2      \n",
      "typing                                 3.6.6      \n",
      "unicodecsv                             0.14.1     \n",
      "unittest2                              1.1.0      \n",
      "verboselogs                            1.7        \n",
      "vine                                   1.1.3      \n",
      "virtualenv                             16.0.0     \n",
      "virtualenv-clone                       0.4.0      \n",
      "watchdog                               0.8.3      \n",
      "wcwidth                                0.1.7      \n",
      "webencodings                           0.5        \n",
      "Werkzeug                               0.14.1     \n",
      "wheel                                  0.33.4     \n",
      "whitenoise                             3.3.0      \n",
      "widgetsnbextension                     2.0.0      \n",
      "xlrd                                   1.1.0      \n",
      "xlwt                                   1.3.0      \n",
      "yarg                                   0.1.9      \n",
      "zope.interface                         4.4.3      \n"
     ]
    }
   ],
   "source": [
    "!pip list"
   ]
  },
  {
   "cell_type": "markdown",
   "metadata": {},
   "source": [
    "Notice that this makes a somewhat long printout.  If your final submission of a notebook, you should remove all the long printouts to have a more readable notebook.  Now let's move on to something more interesting.\n",
    "\n",
    "## Visualizing Datasets\n",
    "\n",
    "Jupyter notebooks are a great way to work with data. In this section, we will\n",
    "1. Learn how to use the csv package, and learn how to use the staple Python library Pandas, which provides a DataFrame object, which is essentially a numpy array with lots of extra methods attached to it.\n",
    "2. Work with a package called matplotlib to visualize some data. \n",
    "To get started, download the necessary packages and [matplotlib](https://matplotlib.org/downloads.html)."
   ]
  },
  {
   "cell_type": "code",
   "execution_count": 18,
   "metadata": {
    "ExecuteTime": {
     "end_time": "2019-09-17T19:11:24.012409Z",
     "start_time": "2019-09-17T19:11:23.669136Z"
    }
   },
   "outputs": [],
   "source": [
    "import numpy as np\n",
    "import matplotlib.pyplot as plt\n",
    "\n",
    "%matplotlib inline"
   ]
  },
  {
   "cell_type": "code",
   "execution_count": 19,
   "metadata": {
    "ExecuteTime": {
     "end_time": "2019-09-17T19:11:26.122995Z",
     "start_time": "2019-09-17T19:11:26.114116Z"
    }
   },
   "outputs": [],
   "source": [
    "x = np.arange(0, 10, .1)\n",
    "y = x**2"
   ]
  },
  {
   "cell_type": "code",
   "execution_count": 20,
   "metadata": {
    "ExecuteTime": {
     "end_time": "2019-09-17T19:11:27.655995Z",
     "start_time": "2019-09-17T19:11:27.459954Z"
    }
   },
   "outputs": [
    {
     "data": {
      "image/png": "[encoded data removed]",
      "text/plain": [
       "<Figure size 432x288 with 1 Axes>"
      ]
     },
     "metadata": {
      "needs_background": "light"
     },
     "output_type": "display_data"
    }
   ],
   "source": [
    "plt.plot(x, y)\n",
    "plt.show()"
   ]
  },
  {
   "cell_type": "markdown",
   "metadata": {},
   "source": [
    "### A basic data analysis with Pandas"
   ]
  },
  {
   "cell_type": "code",
   "execution_count": 21,
   "metadata": {
    "ExecuteTime": {
     "end_time": "2019-09-17T19:11:33.234712Z",
     "start_time": "2019-09-17T19:11:31.380966Z"
    }
   },
   "outputs": [
    {
     "name": "stdout",
     "output_type": "stream",
     "text": [
      "5.1,3.5,1.4,0.2,Iris-setosa\n",
      "4.9,3.0,1.4,0.2,Iris-setosa\n",
      "4.7,3.2,1.3,0.2,Iris-setosa\n",
      "4.6,3.1,1.5,0.2,Iris-setosa\n",
      "5.0,3.6,1.4,0.2,Iris-setosa\n",
      "5.4,3.9,1.7,0.4,Iris-setosa\n",
      "4.6,3.4,1.4,0.3,Iris-setosa\n",
      "5.0,3.4,1.5,0.2,Iris-setosa\n",
      "4.4,2.9,1.4,0.2,Iris-setosa\n",
      "4.9,3.1,1.5,0.1,Iris-setosa\n"
     ]
    }
   ],
   "source": [
    "# standard import statements for data analysis\n",
    "import numpy as np                  # linear algebra library\n",
    "import pandas as pd                 # data analysis and manipulation\n",
    "import matplotlib.pyplot as plt     # standard-issue plotting library\n",
    "import seaborn as sns               # fancier plotting library\n",
    "\n",
    "# other helpful libraries\n",
    "import requests                     # allows the use of HTTP requests\n",
    "# turns a string into an input stream so that pandas can load it.\n",
    "from io import StringIO\n",
    "# allows for operating-system-specific path joining\n",
    "from os.path import join\n",
    "\n",
    "# The following line is a Jupyter \"magic\": lines beginning with a `%` are how you talk to Jupyter\n",
    "#   (instead of Python or the shell) .  Here, I'm telling Jupyter to display matplotlib plots\n",
    "#   as inline, as opposed to the default of having them pop up in their own window, buried\n",
    "#   behind everything else.\n",
    "%matplotlib inline\n",
    "\n",
    "# Use the Requests library to pull a dataset from the internet\n",
    "response = requests.get(\n",
    "    \"https://archive.ics.uci.edu/ml/machine-learning-databases/iris/iris.data\")\n",
    "\n",
    "# Get just the data\n",
    "data_string = response.text\n",
    "\n",
    "print(response.text[:279])"
   ]
  },
  {
   "cell_type": "markdown",
   "metadata": {},
   "source": [
    "What a mess!  Let's turn that into something a bit more manageable.  Enter pandas:"
   ]
  },
  {
   "cell_type": "code",
   "execution_count": 22,
   "metadata": {
    "ExecuteTime": {
     "end_time": "2019-09-17T19:11:36.027745Z",
     "start_time": "2019-09-17T19:11:35.991198Z"
    }
   },
   "outputs": [
    {
     "data": {
      "text/html": [
       "<div>\n",
       "<style scoped>\n",
       "    .dataframe tbody tr th:only-of-type {\n",
       "        vertical-align: middle;\n",
       "    }\n",
       "\n",
       "    .dataframe tbody tr th {\n",
       "        vertical-align: top;\n",
       "    }\n",
       "\n",
       "    .dataframe thead th {\n",
       "        text-align: right;\n",
       "    }\n",
       "</style>\n",
       "<table border=\"1\" class=\"dataframe\">\n",
       "  <thead>\n",
       "    <tr style=\"text-align: right;\">\n",
       "      <th></th>\n",
       "      <th>5.1</th>\n",
       "      <th>3.5</th>\n",
       "      <th>1.4</th>\n",
       "      <th>0.2</th>\n",
       "      <th>Iris-setosa</th>\n",
       "    </tr>\n",
       "  </thead>\n",
       "  <tbody>\n",
       "    <tr>\n",
       "      <th>0</th>\n",
       "      <td>4.9</td>\n",
       "      <td>3.0</td>\n",
       "      <td>1.4</td>\n",
       "      <td>0.2</td>\n",
       "      <td>Iris-setosa</td>\n",
       "    </tr>\n",
       "    <tr>\n",
       "      <th>1</th>\n",
       "      <td>4.7</td>\n",
       "      <td>3.2</td>\n",
       "      <td>1.3</td>\n",
       "      <td>0.2</td>\n",
       "      <td>Iris-setosa</td>\n",
       "    </tr>\n",
       "    <tr>\n",
       "      <th>2</th>\n",
       "      <td>4.6</td>\n",
       "      <td>3.1</td>\n",
       "      <td>1.5</td>\n",
       "      <td>0.2</td>\n",
       "      <td>Iris-setosa</td>\n",
       "    </tr>\n",
       "    <tr>\n",
       "      <th>3</th>\n",
       "      <td>5.0</td>\n",
       "      <td>3.6</td>\n",
       "      <td>1.4</td>\n",
       "      <td>0.2</td>\n",
       "      <td>Iris-setosa</td>\n",
       "    </tr>\n",
       "    <tr>\n",
       "      <th>4</th>\n",
       "      <td>5.4</td>\n",
       "      <td>3.9</td>\n",
       "      <td>1.7</td>\n",
       "      <td>0.4</td>\n",
       "      <td>Iris-setosa</td>\n",
       "    </tr>\n",
       "  </tbody>\n",
       "</table>\n",
       "</div>"
      ],
      "text/plain": [
       "   5.1  3.5  1.4  0.2  Iris-setosa\n",
       "0  4.9  3.0  1.4  0.2  Iris-setosa\n",
       "1  4.7  3.2  1.3  0.2  Iris-setosa\n",
       "2  4.6  3.1  1.5  0.2  Iris-setosa\n",
       "3  5.0  3.6  1.4  0.2  Iris-setosa\n",
       "4  5.4  3.9  1.7  0.4  Iris-setosa"
      ]
     },
     "execution_count": 22,
     "metadata": {},
     "output_type": "execute_result"
    }
   ],
   "source": [
    "# `df` is short for dataframe, the standard object in Pandas (which we abbreviated as `pd`), the Python\n",
    "#    dataset manipulation library.  Think of it as Excel, but awesome.\n",
    "df = pd.read_csv(StringIO(data_string))\n",
    "\n",
    "# show me the top 5 rows!\n",
    "df.head()"
   ]
  },
  {
   "cell_type": "markdown",
   "metadata": {},
   "source": [
    "Okay, it's prettier, but the columns are all messed up.  What gives?  Pandas figures that your first row is the names of the columns.  We'll add an extra line to fix that."
   ]
  },
  {
   "cell_type": "code",
   "execution_count": 23,
   "metadata": {
    "ExecuteTime": {
     "end_time": "2019-09-17T19:11:39.207701Z",
     "start_time": "2019-09-17T19:11:39.193141Z"
    }
   },
   "outputs": [
    {
     "data": {
      "text/html": [
       "<div>\n",
       "<style scoped>\n",
       "    .dataframe tbody tr th:only-of-type {\n",
       "        vertical-align: middle;\n",
       "    }\n",
       "\n",
       "    .dataframe tbody tr th {\n",
       "        vertical-align: top;\n",
       "    }\n",
       "\n",
       "    .dataframe thead th {\n",
       "        text-align: right;\n",
       "    }\n",
       "</style>\n",
       "<table border=\"1\" class=\"dataframe\">\n",
       "  <thead>\n",
       "    <tr style=\"text-align: right;\">\n",
       "      <th></th>\n",
       "      <th>sepal length</th>\n",
       "      <th>sepal width</th>\n",
       "      <th>petal length</th>\n",
       "      <th>petal width</th>\n",
       "      <th>species</th>\n",
       "    </tr>\n",
       "  </thead>\n",
       "  <tbody>\n",
       "    <tr>\n",
       "      <th>0</th>\n",
       "      <td>5.1</td>\n",
       "      <td>3.5</td>\n",
       "      <td>1.4</td>\n",
       "      <td>0.2</td>\n",
       "      <td>Iris-setosa</td>\n",
       "    </tr>\n",
       "    <tr>\n",
       "      <th>1</th>\n",
       "      <td>4.9</td>\n",
       "      <td>3.0</td>\n",
       "      <td>1.4</td>\n",
       "      <td>0.2</td>\n",
       "      <td>Iris-setosa</td>\n",
       "    </tr>\n",
       "    <tr>\n",
       "      <th>2</th>\n",
       "      <td>4.7</td>\n",
       "      <td>3.2</td>\n",
       "      <td>1.3</td>\n",
       "      <td>0.2</td>\n",
       "      <td>Iris-setosa</td>\n",
       "    </tr>\n",
       "    <tr>\n",
       "      <th>3</th>\n",
       "      <td>4.6</td>\n",
       "      <td>3.1</td>\n",
       "      <td>1.5</td>\n",
       "      <td>0.2</td>\n",
       "      <td>Iris-setosa</td>\n",
       "    </tr>\n",
       "    <tr>\n",
       "      <th>4</th>\n",
       "      <td>5.0</td>\n",
       "      <td>3.6</td>\n",
       "      <td>1.4</td>\n",
       "      <td>0.2</td>\n",
       "      <td>Iris-setosa</td>\n",
       "    </tr>\n",
       "  </tbody>\n",
       "</table>\n",
       "</div>"
      ],
      "text/plain": [
       "   sepal length  sepal width  petal length  petal width      species\n",
       "0           5.1          3.5           1.4          0.2  Iris-setosa\n",
       "1           4.9          3.0           1.4          0.2  Iris-setosa\n",
       "2           4.7          3.2           1.3          0.2  Iris-setosa\n",
       "3           4.6          3.1           1.5          0.2  Iris-setosa\n",
       "4           5.0          3.6           1.4          0.2  Iris-setosa"
      ]
     },
     "execution_count": 23,
     "metadata": {},
     "output_type": "execute_result"
    }
   ],
   "source": [
    "column_names = [\"sepal length\", \"sepal width\",\n",
    "                \"petal length\", \"petal width\", \"species\"]\n",
    "\n",
    "# read it in again to not lose the first line of data:\n",
    "df = pd.read_csv(StringIO(data_string), names=column_names)\n",
    "df.head()"
   ]
  },
  {
   "cell_type": "markdown",
   "metadata": {},
   "source": [
    "Awesome, now this is a working dataset.  Let's do some basic checks on our data, just to see what we're working with.\n",
    "\n",
    "(By the way, a quick *meta note*: notice that I'm using these markdown cells to walk you through the process of my data analysis using this notebook.  It's **much** nicer to look through someone else's work and see what they've done when they tell you a bit of a story with their Markdown cells along the way!)"
   ]
  },
  {
   "cell_type": "markdown",
   "metadata": {},
   "source": [
    "### Basic pandas commands: data inspection"
   ]
  },
  {
   "cell_type": "code",
   "execution_count": 24,
   "metadata": {
    "ExecuteTime": {
     "end_time": "2019-09-17T19:11:41.929168Z",
     "start_time": "2019-09-17T19:11:41.925246Z"
    }
   },
   "outputs": [
    {
     "data": {
      "text/plain": [
       "(150, 5)"
      ]
     },
     "execution_count": 24,
     "metadata": {},
     "output_type": "execute_result"
    }
   ],
   "source": [
    "# number of rows and columns\n",
    "df.shape"
   ]
  },
  {
   "cell_type": "markdown",
   "metadata": {},
   "source": [
    "Notice that in our little `df.head()` call above, all the entries for `species` were the same.  That suggests there aren't too many *unique* options for `species` (In this case, `species` is *categorical data*: it doesn't really have any ordering).  How many unique options are there?"
   ]
  },
  {
   "cell_type": "code",
   "execution_count": 25,
   "metadata": {
    "ExecuteTime": {
     "end_time": "2019-09-17T19:11:44.402822Z",
     "start_time": "2019-09-17T19:11:44.391033Z"
    }
   },
   "outputs": [
    {
     "data": {
      "text/plain": [
       "array(['Iris-setosa', 'Iris-versicolor', 'Iris-virginica'], dtype=object)"
      ]
     },
     "execution_count": 25,
     "metadata": {},
     "output_type": "execute_result"
    }
   ],
   "source": [
    "df['species'].unique()\n",
    "\n",
    "# note that I could have also said:\n",
    "# df.species.unique()"
   ]
  },
  {
   "cell_type": "markdown",
   "metadata": {},
   "source": [
    "This dataset is the famous [iris](https://en.wikipedia.org/wiki/Iris_flower_data_set) dataset.  It contains data on  three species of iris, with four interesting columns of data about them.  You can use this dataset to learn about plotting, making basic machine learning models, etc.  Let's continue to analyze it."
   ]
  },
  {
   "cell_type": "code",
   "execution_count": 26,
   "metadata": {
    "ExecuteTime": {
     "end_time": "2019-09-17T19:11:47.873627Z",
     "start_time": "2019-09-17T19:11:47.841020Z"
    }
   },
   "outputs": [
    {
     "data": {
      "text/html": [
       "<div>\n",
       "<style scoped>\n",
       "    .dataframe tbody tr th:only-of-type {\n",
       "        vertical-align: middle;\n",
       "    }\n",
       "\n",
       "    .dataframe tbody tr th {\n",
       "        vertical-align: top;\n",
       "    }\n",
       "\n",
       "    .dataframe thead th {\n",
       "        text-align: right;\n",
       "    }\n",
       "</style>\n",
       "<table border=\"1\" class=\"dataframe\">\n",
       "  <thead>\n",
       "    <tr style=\"text-align: right;\">\n",
       "      <th></th>\n",
       "      <th>sepal length</th>\n",
       "      <th>sepal width</th>\n",
       "      <th>petal length</th>\n",
       "      <th>petal width</th>\n",
       "    </tr>\n",
       "  </thead>\n",
       "  <tbody>\n",
       "    <tr>\n",
       "      <th>count</th>\n",
       "      <td>150.000000</td>\n",
       "      <td>150.000000</td>\n",
       "      <td>150.000000</td>\n",
       "      <td>150.000000</td>\n",
       "    </tr>\n",
       "    <tr>\n",
       "      <th>mean</th>\n",
       "      <td>5.843333</td>\n",
       "      <td>3.054000</td>\n",
       "      <td>3.758667</td>\n",
       "      <td>1.198667</td>\n",
       "    </tr>\n",
       "    <tr>\n",
       "      <th>std</th>\n",
       "      <td>0.828066</td>\n",
       "      <td>0.433594</td>\n",
       "      <td>1.764420</td>\n",
       "      <td>0.763161</td>\n",
       "    </tr>\n",
       "    <tr>\n",
       "      <th>min</th>\n",
       "      <td>4.300000</td>\n",
       "      <td>2.000000</td>\n",
       "      <td>1.000000</td>\n",
       "      <td>0.100000</td>\n",
       "    </tr>\n",
       "    <tr>\n",
       "      <th>25%</th>\n",
       "      <td>5.100000</td>\n",
       "      <td>2.800000</td>\n",
       "      <td>1.600000</td>\n",
       "      <td>0.300000</td>\n",
       "    </tr>\n",
       "    <tr>\n",
       "      <th>50%</th>\n",
       "      <td>5.800000</td>\n",
       "      <td>3.000000</td>\n",
       "      <td>4.350000</td>\n",
       "      <td>1.300000</td>\n",
       "    </tr>\n",
       "    <tr>\n",
       "      <th>75%</th>\n",
       "      <td>6.400000</td>\n",
       "      <td>3.300000</td>\n",
       "      <td>5.100000</td>\n",
       "      <td>1.800000</td>\n",
       "    </tr>\n",
       "    <tr>\n",
       "      <th>max</th>\n",
       "      <td>7.900000</td>\n",
       "      <td>4.400000</td>\n",
       "      <td>6.900000</td>\n",
       "      <td>2.500000</td>\n",
       "    </tr>\n",
       "  </tbody>\n",
       "</table>\n",
       "</div>"
      ],
      "text/plain": [
       "       sepal length  sepal width  petal length  petal width\n",
       "count    150.000000   150.000000    150.000000   150.000000\n",
       "mean       5.843333     3.054000      3.758667     1.198667\n",
       "std        0.828066     0.433594      1.764420     0.763161\n",
       "min        4.300000     2.000000      1.000000     0.100000\n",
       "25%        5.100000     2.800000      1.600000     0.300000\n",
       "50%        5.800000     3.000000      4.350000     1.300000\n",
       "75%        6.400000     3.300000      5.100000     1.800000\n",
       "max        7.900000     4.400000      6.900000     2.500000"
      ]
     },
     "execution_count": 26,
     "metadata": {},
     "output_type": "execute_result"
    }
   ],
   "source": [
    "# get some useful statistics on the dataset\n",
    "df.describe()"
   ]
  },
  {
   "cell_type": "markdown",
   "metadata": {},
   "source": [
    "This tells you quite a bit about the dataset, if you understand what you're looking at.  `count` is the number of elements, `mean` is the mean of the data (note that this requires doing some math on the data, so it will often be messed up if you have an error in your dataset, like missing data), `std` is the standard deviation, and the rest are [percentiles](https://en.wikipedia.org/wiki/Percentile). From this, I can see that nothing looks our of place, like there are unlikely to be incorrect values ($-150$cm long petals, for example), so we're okay to move on to some *exploratory* plots of our data."
   ]
  },
  {
   "cell_type": "markdown",
   "metadata": {},
   "source": [
    "### Basic plotting\n",
    "As I mentioned above, Matplotlib is the standard plotting library for Python. Let's make a simple scatter plot of two of the columns, to start."
   ]
  },
  {
   "cell_type": "code",
   "execution_count": 27,
   "metadata": {
    "ExecuteTime": {
     "end_time": "2019-09-17T19:11:52.276839Z",
     "start_time": "2019-09-17T19:11:52.272605Z"
    }
   },
   "outputs": [
    {
     "data": {
      "text/plain": [
       "Index(['sepal length', 'sepal width', 'petal length', 'petal width',\n",
       "       'species'],\n",
       "      dtype='object')"
      ]
     },
     "execution_count": 27,
     "metadata": {},
     "output_type": "execute_result"
    }
   ],
   "source": [
    "df.columns"
   ]
  },
  {
   "cell_type": "code",
   "execution_count": 28,
   "metadata": {
    "ExecuteTime": {
     "end_time": "2019-09-17T19:11:56.544254Z",
     "start_time": "2019-09-17T19:11:56.315335Z"
    }
   },
   "outputs": [
    {
     "data": {
      "text/plain": [
       "<matplotlib.collections.PathCollection at 0x11f4797d0>"
      ]
     },
     "execution_count": 28,
     "metadata": {},
     "output_type": "execute_result"
    },
    {
     "data": {
      "image/png": "[encoded data removed]",
      "text/plain": [
       "<Figure size 432x288 with 1 Axes>"
      ]
     },
     "metadata": {
      "needs_background": "light"
     },
     "output_type": "display_data"
    }
   ],
   "source": [
    "# Note: the semi-colon is optional and makes the output slightly prettier.\n",
    "plt.scatter(df['petal length'], df['petal width'])"
   ]
  },
  {
   "cell_type": "markdown",
   "metadata": {},
   "source": [
    "Okay, cool, that was pretty easy.  However, it's not currently telling me much about that important-seeming lower left chunk of data points.  Is it maybe just one species, and the upper bit is the other two?  We can add some color to our plot to test this hypothesis.  To do that, we need to feed a list of colors that's the same length as the data (a length-150 list of strings like `\"red\", \"blue\"`, *etc.*) based on the species.  We'll make a Python dictionary to do that:"
   ]
  },
  {
   "cell_type": "code",
   "execution_count": 29,
   "metadata": {
    "ExecuteTime": {
     "end_time": "2019-09-17T19:12:00.496447Z",
     "start_time": "2019-09-17T19:12:00.486644Z"
    }
   },
   "outputs": [
    {
     "name": "stdout",
     "output_type": "stream",
     "text": [
      "red, red, red, red, red, red, red, red, red, red, red, red, red, red, red, red, red, red, red, red, red, red, red, red, red, red, red, red, red, red, red, red, red, red, red, red, red, red, red, red, red, red, red, red, red, red, red, red, red, red, blue, blue, blue, blue, blue, blue, blue, blue, blue, blue, blue, blue, blue, blue, blue, blue, blue, blue, blue, blue, blue, blue, blue, blue, blue, blue, blue, blue, blue, blue, blue, blue, blue, blue, blue, blue, blue, blue, blue, blue, blue, blue, blue, blue, blue, blue, blue, blue, blue, blue, green, green, green, green, green, green, green, green, green, green, green, green, green, green, green, green, green, green, green, green, green, green, green, green, green, green, green, green, green, green, green, green, green, green, green, green, green, green, green, green, green, green, green, green, green, green, green, green, green, green\n"
     ]
    }
   ],
   "source": [
    "color_options = [\"red\", \"blue\", \"green\"]\n",
    "\n",
    "# overly fancy for this example, but very useful when you have tons of categories in your variable!\n",
    "color_mapping = {species: color for species,\n",
    "                 color in zip(df['species'].unique(), color_options)}\n",
    "\n",
    "colors = [color_mapping[species] for species in df['species']]\n",
    "\n",
    "print(*colors, sep=\", \")"
   ]
  },
  {
   "cell_type": "markdown",
   "metadata": {},
   "source": [
    "That's a pretty long and ugly printout.  I usually wouldn't leave that in the notebook, but I'm showing you what we're creating."
   ]
  },
  {
   "cell_type": "code",
   "execution_count": 30,
   "metadata": {
    "ExecuteTime": {
     "end_time": "2019-09-17T19:12:03.195007Z",
     "start_time": "2019-09-17T19:12:02.978802Z"
    }
   },
   "outputs": [
    {
     "data": {
      "text/plain": [
       "<matplotlib.collections.PathCollection at 0x11f4b6290>"
      ]
     },
     "execution_count": 30,
     "metadata": {},
     "output_type": "execute_result"
    },
    {
     "data": {
      "image/png": "[encoded data removed]",
      "text/plain": [
       "<Figure size 432x288 with 1 Axes>"
      ]
     },
     "metadata": {
      "needs_background": "light"
     },
     "output_type": "display_data"
    }
   ],
   "source": [
    "plt.scatter(df['petal length'], df['petal width'], c=colors)"
   ]
  },
  {
   "cell_type": "markdown",
   "metadata": {},
   "source": [
    "Our hypothesis was correct!  Awesome!  But, which species does this single out?  \"The red one\" is a pretty unacceptable answer; we need a legend!  Here's a first guess: the matplotlib documentation says that `plt.legend` needs \"labels\", whatever that is."
   ]
  },
  {
   "cell_type": "code",
   "execution_count": 31,
   "metadata": {
    "ExecuteTime": {
     "end_time": "2019-09-17T19:12:05.107983Z",
     "start_time": "2019-09-17T19:12:04.886718Z"
    }
   },
   "outputs": [
    {
     "data": {
      "text/plain": [
       "<matplotlib.legend.Legend at 0x11f57f7d0>"
      ]
     },
     "execution_count": 31,
     "metadata": {},
     "output_type": "execute_result"
    },
    {
     "data": {
      "image/png": "[encoded data removed]",
      "text/plain": [
       "<Figure size 432x288 with 1 Axes>"
      ]
     },
     "metadata": {
      "needs_background": "light"
     },
     "output_type": "display_data"
    }
   ],
   "source": [
    "plt.scatter(df['petal length'], df['petal width'], c=colors)\n",
    "plt.legend(labels=df['species'].unique())"
   ]
  },
  {
   "cell_type": "markdown",
   "metadata": {},
   "source": [
    "That's... not right, and a bit silly.  It turns out that in order to do this with basic matplotlib, we actually have to split our data up based on its species (category).  (You're probably thinking \"Wait, really? That's a silly way to do it!\", and you wouldn't be wrong.  Stay with me!)"
   ]
  },
  {
   "cell_type": "code",
   "execution_count": 32,
   "metadata": {
    "ExecuteTime": {
     "end_time": "2019-09-17T19:12:07.322766Z",
     "start_time": "2019-09-17T19:12:07.064435Z"
    }
   },
   "outputs": [
    {
     "data": {
      "text/plain": [
       "Text(0, 0.5, 'Petal width')"
      ]
     },
     "execution_count": 32,
     "metadata": {},
     "output_type": "execute_result"
    },
    {
     "data": {
      "image/png": "[encoded data removed]",
      "text/plain": [
       "<Figure size 432x288 with 1 Axes>"
      ]
     },
     "metadata": {
      "needs_background": "light"
     },
     "output_type": "display_data"
    }
   ],
   "source": [
    "for species in df['species'].unique():\n",
    "    # Restrict the dataset to just those rows that are this species\n",
    "    df_restricted = df.loc[df['species'] == species]\n",
    "\n",
    "    # Note that you can also just put in a single color to the `c` option:\n",
    "    plt.scatter(df_restricted['petal length'],\n",
    "                df_restricted['petal width'],\n",
    "                label=species,                  # This allows the legend to work\n",
    "                c=color_mapping[species])\n",
    "\n",
    "# Since we labeled the individual calls to `plt.scatter`, we can just use:\n",
    "plt.legend()\n",
    "\n",
    "# Always label your axes!\n",
    "plt.xlabel('Petal length')\n",
    "plt.ylabel('Petal width')"
   ]
  },
  {
   "cell_type": "markdown",
   "metadata": {},
   "source": [
    "Okay, *that's* a nice graph.  But it sure was a decent amount of work to get it!  The library Seaborn (which is just a wrapper around Matplotlib with a bunch of convenience functions) has some helpful tools to get us this very straightforward graph more quickly:"
   ]
  },
  {
   "cell_type": "code",
   "execution_count": 33,
   "metadata": {
    "ExecuteTime": {
     "end_time": "2019-09-17T19:12:10.405661Z",
     "start_time": "2019-09-17T19:12:10.086863Z"
    }
   },
   "outputs": [
    {
     "data": {
      "text/plain": [
       "<seaborn.axisgrid.FacetGrid at 0x11f720610>"
      ]
     },
     "execution_count": 33,
     "metadata": {},
     "output_type": "execute_result"
    },
    {
     "data": {
      "image/png": "[encoded data removed]",
      "text/plain": [
       "<Figure size 360x360 with 1 Axes>"
      ]
     },
     "metadata": {
      "needs_background": "light"
     },
     "output_type": "display_data"
    }
   ],
   "source": [
    "sns.lmplot('petal length',\n",
    "           'petal width',\n",
    "           data=df,\n",
    "           hue='species',       # color the data by the 'species' column\n",
    "           fit_reg=False,       # don't bother fitting a linear regression line\n",
    "           legend_out=False)   # place the legend inside the graph, not outside"
   ]
  },
  {
   "cell_type": "markdown",
   "metadata": {},
   "source": [
    "One last **awesomely useful** plot that Seaborn can make for you, especially for machine learning applications, is called a [pair plot](https://www.quora.com/What-are-pair-plots).  It compares all the different columns/variables against each other using scatter plots, and then plots histograms along the \"diagonal\", where the \"row\" and \"column\" variables of the plot are the same."
   ]
  },
  {
   "cell_type": "code",
   "execution_count": 34,
   "metadata": {
    "ExecuteTime": {
     "end_time": "2019-09-17T19:12:18.680567Z",
     "start_time": "2019-09-17T19:12:15.516880Z"
    }
   },
   "outputs": [
    {
     "data": {
      "text/plain": [
       "<seaborn.axisgrid.PairGrid at 0x11f720a50>"
      ]
     },
     "execution_count": 34,
     "metadata": {},
     "output_type": "execute_result"
    },
    {
     "data": {
      "image/png": "[encoded data removed]",
      "text/plain": [
       "<Figure size 823.5x720 with 20 Axes>"
      ]
     },
     "metadata": {
      "needs_background": "light"
     },
     "output_type": "display_data"
    }
   ],
   "source": [
    "sns.pairplot(df, hue='species')"
   ]
  },
  {
   "cell_type": "markdown",
   "metadata": {},
   "source": [
    "### Dealing with messy data\n",
    "\n",
    "Pandas is also really good at helping you if you have messy data.  The iris dataset that we've been working with is *famously* a clean, perfect dataset.  However, most are not, and certainly not the ones that you construct yourself. The problem of what to do with [missing data](https://en.wikipedia.org/wiki/Missing_data) is a *huge* one, and entire branches of statistics have been set up to deal with it. The topic of what to do with missing data is a big one, and not something we can cover in a single cell.  The simplest solution is to [*impute*](https://en.wikipedia.org/wiki/Imputation_%28statistics%29) them to be some kind of average or otherwise representative value. \n",
    "\n",
    "Another common example of messy data is \"NaN\" columns stand for [not a number](https://en.wikipedia.org/wiki/NaN); they indicate missing data. The term [tidy data](https://www.jstatsoft.org/article/view/v059i10/v59i10.pdf) means something very specific, and is a good, industry standard goal to work toward in your data cleaning process.\n",
    "\n",
    "For the HW portion of this notebook, you will learn about a few more common data cleaning steps.\n",
    "\n",
    "<!-- Small side note: notice I used \"1.\" for both items and it updated automatically.  That's the beauty of markdown!  \n",
    "\n",
    "By the way, if you're reading this, you've entered edit mode for this cell.  I wanted to call attention to the thing above, but only if you can see it, so I wanted to add THIS text only if you're in edit mode.  How is this possible?  Well, markdown is secretly just pre-processed HTML, and this text is inside of an HTML comment, so that's why you can't see it in the final version of the cell.  The more you know! -->"
   ]
  },
  {
   "cell_type": "markdown",
   "metadata": {},
   "source": [
    "<hr>"
   ]
  },
  {
   "cell_type": "markdown",
   "metadata": {},
   "source": [
    "# HW_Portion\n",
    "\n",
    "**Directions:** Throughout this homework portion, add markdown cells as needed in order to document your process of trying to understand it.  I don't expect to just see three perfect answers and no explanations.  Tell me what you are trying!  In the end, make sure your cell and kernel linearities line up (that is, make sure that your final product can be followed from top to bottom).\n",
    "\n",
    "Our goal is to gain a bit more familiarity with the way you might generate datasets from [APIs](https://en.wikipedia.org/wiki/Application_programming_interface) or from a larger CSV.\n",
    "\n",
    "**Make sure you submit a zip file with:**\n",
    "1. this **notebook** (provided)\n",
    "2. the **locations.json** output from part 1\n",
    "3. **bnc-wordfreq.csv** input from part 2\n",
    "4. **raven.txt** (provided)\n",
    "5. the **raven.csv** output from part 3"
   ]
  },
  {
   "cell_type": "markdown",
   "metadata": {},
   "source": [
    "### 1. Google Maps Geocoding API\n",
    "\n",
    "Below is a function that generates a random Latitude and Longitude in Wyoming (it's a [particularly square state](https://www.mapsofworld.com/usa/states/wyoming/wyoming-maps/wyoming-lat-long-map.jpg)).  **Your first goal** is to use the Google Maps Geocoding API to create a dataset of 10 random locations in Wyoming and the **town and zip code** they lie in.  For example:\n",
    "```\n",
    "[{\"lat\": \"44.952055\", \"lon\": \"-107.67753\", \"town\": \"Parkman\", \"zip\": \"82838\"}, ...]\n",
    "```\n",
    "\n",
    "To do this: \n",
    "\n",
    "1. [Get a google maps geocoding API key](https://developers.google.com/maps/documentation/geocoding/get-api-key) -- It's free and quick, just tell them the name of your \"app\" (it can be anything)\n",
    "2. [Take a look at how to use the geocoding API](https://developers.google.com/maps/documentation/geocoding/start) -- You're looking for the process they call \"reverse geocoding\"\n",
    "3. Build your request\n",
    "4. Interpret the result: it's a JSON response with tons of extra data so let me help you: you'll need `your_request_response_object.json()`.  Just grab the first result's `address_components` and dive into that array, or look for the results `formatted_address` and find the town and zip code in the resulting string (try `my_string.split(,)`.)\n",
    "5. Save the data as a [JSON file](https://docs.python.org/2/library/json.html) (or [use pandas](https://pandas.pydata.org/pandas-docs/stable/generated/pandas.DataFrame.to_json.html), possibly easier). Name it `*locations.json*`.\n",
    "\n",
    "Some tips:\n",
    "* When you're done cleaning a dataset, it's usually good to save the data to a **new** file.  It's very important that it's new, to help with [data lineage/provenance](https://en.wikipedia.org/wiki/Data_lineage).\n",
    "* If you don't want to add a billing account to you Google API, feel free to use a free gelocation API, for example, (https://ipstack.com/).\n",
    "* I recommend using a while loop with 10 iterations with a [try-except](https://docs.python.org/3/tutorial/errors.html), in case the API returns a bad response."
   ]
  },
  {
   "cell_type": "code",
   "execution_count": 35,
   "metadata": {
    "ExecuteTime": {
     "end_time": "2019-09-17T19:12:23.072881Z",
     "start_time": "2019-09-17T19:12:23.068696Z"
    }
   },
   "outputs": [],
   "source": [
    "# some necessary imports\n",
    "import random\n",
    "import json\n",
    "\n",
    "import numpy as np\n",
    "import pandas as pd\n",
    "import requests\n",
    "\n",
    "\n",
    "def generate_lat_long():\n",
    "    \"\"\" Generate a random latitude and longitude in Wyoming. \n",
    "    Bounds: 41°N to 45°N and 104.05°W to 111.05°W\n",
    "    \"\"\"\n",
    "    return \"{},{}\".format(round(random.uniform(41, 45), 5), round(random.uniform(-111.05, -104.05), 5))"
   ]
  },
  {
   "cell_type": "code",
   "execution_count": null,
   "metadata": {},
   "outputs": [],
   "source": [
    "# write your code here"
   ]
  },
  {
   "cell_type": "markdown",
   "metadata": {},
   "source": [
    "### 2. Slicing a dataset using pandas\n",
    "\n",
    "[This CSV](http://introcs.cs.princeton.edu/java/data/bnc-wordfreq.csv) contains word frequencies in a subset of the British National Corpus, a 100 million long collect\n",
    "\n",
    "Questions/tasks for you:\n",
    "1. How many words are in this dataset?\n",
    "2. Construct the dataset consisting of all nouns whose frequency is greater than 20000 and which contain an \"`ag`\" in them.  Some hints: use pandas [boolean slicing](https://pandas.pydata.org/pandas-docs/stable/indexing.html#boolean-indexing); pandas can help you with [string containment](https://pandas.pydata.org/pandas-docs/stable/text.html#testing-for-strings-that-match-or-contain-a-pattern), too.\n",
    "3. Construct the dataset of all the prime-number-indexed rows.  Use [`.loc`](https://pandas.pydata.org/pandas-docs/stable/indexing.html#basics)\n",
    "\n",
    "Both of the datasets may be just constructed in memory, _i.e._ no need to save them to a file."
   ]
  },
  {
   "cell_type": "code",
   "execution_count": null,
   "metadata": {},
   "outputs": [],
   "source": [
    "# write your code here"
   ]
  },
  {
   "cell_type": "markdown",
   "metadata": {},
   "source": [
    "### 3. Text Analysis\n",
    "\n",
    "The task of taking text data and making it usable is tricky and can sometimes be time consuming.  Today, we'll keep it pretty simple.\n",
    "\n",
    "1. First, open the text file `raven.txt`, and copy its contents into a single string.\n",
    "2. Then, remove any character that isn't a letter, `\\n`, or (perhaps!) punctuation.  (hint: `\"a\" in \"cat\"` is `True` in Python, whereas `\"&\" in \"cat\"` is `False`.)\n",
    "3. `split` the text by \"sentence\" (more likely by line for this particular text file).  The \"sentences\" will become the rows of your dataset, and the occurrence of certain words will be your columns.  It might help to further `split` your sentences by word.\n",
    "4. Create a dataset from this based upon whether the words `of`, `nothing`, `raven`, and/or `chamber` appear in each sentence: each entry in your dataset will be `0` (this word/column **not** in this sentence/row) or `1` (this word/column appears in this sentence/row).\n",
    "5. Output your dataset to a CSV, named `*raven.csv*`."
   ]
  },
  {
   "cell_type": "code",
   "execution_count": null,
   "metadata": {},
   "outputs": [],
   "source": [
    "# write your code here"
   ]
  },
  {
   "cell_type": "markdown",
   "metadata": {},
   "source": [
    "<hr>"
   ]
  },
  {
   "cell_type": "markdown",
   "metadata": {},
   "source": [
    "### footer_latex\n",
    "$\\LaTeX$ is the *de facto* standard tool for typesetting mathematics and all things based upon in (*e.g.* science).  You separate your mathematical code using dollar signs, as you saw me do up there.  By the way, the math in that example above was both correct and adorable (Can you tell me why?).\n",
    "\n",
    "### footer_list_comprehensions\n",
    "What does that `print` statement above mean? Well, let's start with something easier:\n",
    "```\n",
    ">>> [x for x in range(2, 401)]\n",
    "```\n",
    "This is equal to [2, 3, 4, ..., 400] (a list!).  This is called a [list comprehension](https://docs.python.org/2/tutorial/datastructures.html#list-comprehensions).\n",
    "```\n",
    ">>> [x for x in range(2, 401) if is_prime(x)]\n",
    "```\n",
    "This is all the primes between 2 and 400\n",
    "```\n",
    ">>> print(*[<that_command_above>])\n",
    "```\n",
    "The asterisk is sometimes called the *splat operator*, it \"unpacks\" the list.  Thus, `my_func(*[2,3,4])` is equivalent to `my_func(2,3,4)`."
   ]
  }
 ],
 "metadata": {
  "hide_input": false,
  "kernelspec": {
   "display_name": "venv",
   "language": "python",
   "name": "venv"
  },
  "language_info": {
   "codemirror_mode": {
    "name": "ipython",
    "version": 3
   },
   "file_extension": ".py",
   "mimetype": "text/x-python",
   "name": "python",
   "nbconvert_exporter": "python",
   "pygments_lexer": "ipython3",
   "version": "3.7.4"
  },
  "toc": {
   "base_numbering": 1,
   "nav_menu": {
    "height": "300px",
    "width": "368px"
   },
   "number_sections": true,
   "sideBar": true,
   "skip_h1_title": false,
   "title_cell": "Table of Contents",
   "title_sidebar": "Contents",
   "toc_cell": false,
   "toc_position": {},
   "toc_section_display": true,
   "toc_window_display": true
  },
  "varInspector": {
   "cols": {
    "lenName": 16,
    "lenType": 16,
    "lenVar": 40
   },
   "kernels_config": {
    "python": {
     "delete_cmd_postfix": "",
     "delete_cmd_prefix": "del ",
     "library": "var_list.py",
     "varRefreshCmd": "print(var_dic_list())"
    },
    "r": {
     "delete_cmd_postfix": ") ",
     "delete_cmd_prefix": "rm(",
     "library": "var_list.r",
     "varRefreshCmd": "cat(var_dic_list()) "
    }
   },
   "oldHeight": 122,
   "position": {
    "height": "40px",
    "left": "1083px",
    "right": "20px",
    "top": "120px",
    "width": "350px"
   },
   "types_to_exclude": [
    "module",
    "function",
    "builtin_function_or_method",
    "instance",
    "_Feature"
   ],
   "varInspector_section_display": "none",
   "window_display": true
  }
 },
 "nbformat": 4,
 "nbformat_minor": 2
}
